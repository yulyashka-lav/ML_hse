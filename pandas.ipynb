{
  "nbformat": 4,
  "nbformat_minor": 0,
  "metadata": {
    "colab": {
      "provenance": []
    },
    "kernelspec": {
      "name": "python3",
      "display_name": "Python 3"
    },
    "language_info": {
      "name": "python"
    }
  },
  "cells": [
    {
      "cell_type": "code",
      "execution_count": 2,
      "metadata": {
        "id": "M_HAuUzgr-55"
      },
      "outputs": [],
      "source": [
        "import pandas as pd\n",
        "import numpy as np"
      ]
    },
    {
      "cell_type": "code",
      "source": [
        "df = pd.read_csv(\"data.csv\")"
      ],
      "metadata": {
        "id": "Bx2eiPlxsHCp"
      },
      "execution_count": 3,
      "outputs": []
    },
    {
      "cell_type": "markdown",
      "source": [
        "Задание 1 🥰"
      ],
      "metadata": {
        "id": "V0neNywOudCV"
      }
    },
    {
      "cell_type": "code",
      "source": [
        "df['Platform_Code'], un = pd.factorize(df['Platform'])\n",
        "df_s = df.select_dtypes(include=['integer', 'float'])\n",
        "df_answ = df_s.corr(method='spearman')\n",
        "df_answ['Platform_Code']['Engagement Rate']"
      ],
      "metadata": {
        "colab": {
          "base_uri": "https://localhost:8080/"
        },
        "id": "pe7b9CQPuhmE",
        "outputId": "0c0c48bb-adec-4d39-9c50-bc9babe73f70"
      },
      "execution_count": 4,
      "outputs": [
        {
          "output_type": "execute_result",
          "data": {
            "text/plain": [
              "0.03138169529349812"
            ]
          },
          "metadata": {},
          "execution_count": 4
        }
      ]
    },
    {
      "cell_type": "markdown",
      "source": [
        "Задание 2 🥰"
      ],
      "metadata": {
        "id": "8AJ97n9C1_yj"
      }
    },
    {
      "cell_type": "code",
      "source": [
        "df['Follower_Bin'] = pd.qcut(df['Follower Count'], 4, labels=[ \"Low\", \"Medium\", \"High\", \"Very High\"])\n",
        "d = df.groupby(['Follower_Bin'], observed=False)['Engagement Rate'].mean()\n",
        "d['High']"
      ],
      "metadata": {
        "colab": {
          "base_uri": "https://localhost:8080/"
        },
        "id": "LyCCo6uv2Bgo",
        "outputId": "937341af-8214-408f-b4b3-c53993f3f4ef"
      },
      "execution_count": 5,
      "outputs": [
        {
          "output_type": "execute_result",
          "data": {
            "text/plain": [
              "0.08655032"
            ]
          },
          "metadata": {},
          "execution_count": 5
        }
      ]
    },
    {
      "cell_type": "markdown",
      "source": [
        "Задание 3 🥰"
      ],
      "metadata": {
        "id": "uh66xqtJ6icJ"
      }
    },
    {
      "cell_type": "code",
      "source": [
        "melted_df =  pd.melt(df, id_vars=['Platform'], value_vars=['Follower Count', 'Posts Per Week', 'Ad Spend (USD)', 'Conversion Rate', 'Engagement Rate', 'Campaign Reach'])\n",
        "melted_df = melted_df.rename(columns={'variable': 'Metric', 'value': 'Value'})\n",
        "grouped_1 = melted_df.groupby(['Platform', 'Metric'])['Value'].agg(lambda x: x.mode().max())\n",
        "grouped_1.sum()"
      ],
      "metadata": {
        "colab": {
          "base_uri": "https://localhost:8080/"
        },
        "id": "nqIiYrb06kq0",
        "outputId": "706e2ba2-45b0-4624-8664-ea0f85c5935c",
        "collapsed": true
      },
      "execution_count": 6,
      "outputs": [
        {
          "output_type": "execute_result",
          "data": {
            "text/plain": [
              "3100285.4716"
            ]
          },
          "metadata": {},
          "execution_count": 6
        }
      ]
    },
    {
      "cell_type": "markdown",
      "source": [
        "Задание 4 🥰"
      ],
      "metadata": {
        "id": "xtvWZJ0vMaar"
      }
    },
    {
      "cell_type": "code",
      "source": [
        "grouped = df.groupby(['Platform'])[['Follower Count']].apply(lambda x: x.sort_values(by='Follower Count')[::-1][:3])\n",
        "grouped['Follower Count'].min()"
      ],
      "metadata": {
        "colab": {
          "base_uri": "https://localhost:8080/"
        },
        "id": "0qXLFZ3ZMcvv",
        "outputId": "3bfb6906-fa61-4c12-8c65-c225ba639d5f"
      },
      "execution_count": 7,
      "outputs": [
        {
          "output_type": "execute_result",
          "data": {
            "text/plain": [
              "997512"
            ]
          },
          "metadata": {},
          "execution_count": 7
        }
      ]
    },
    {
      "cell_type": "markdown",
      "source": [
        "Задание 5 🥰"
      ],
      "metadata": {
        "id": "2zuzmDkWx2s3"
      }
    },
    {
      "cell_type": "code",
      "source": [
        "m = df['Conversion Rate'].median()\n",
        "df_5 = df\n",
        "df_5['Conversion_Category'] = np.where(df['Conversion Rate'] > m, 'High', 'Low')\n",
        "pt = pd.pivot_table(df_5, values=['Follower Count', 'Campaign Reach'], index='Platform', columns='Conversion_Category', aggfunc='sum')\n",
        "pt['Conversion Influence'] = (pt['Follower Count']['High'] - pt['Follower Count']['Low']) / (pt['Campaign Reach']['High'] + pt['Campaign Reach']['Low'])\n",
        "pt['Conversion Influence'].idxmax()"
      ],
      "metadata": {
        "colab": {
          "base_uri": "https://localhost:8080/",
          "height": 35
        },
        "id": "nEk4nbh8x4cJ",
        "outputId": "9b33ab7f-7cd8-4531-dd10-27ac6a53f53f"
      },
      "execution_count": 8,
      "outputs": [
        {
          "output_type": "execute_result",
          "data": {
            "text/plain": [
              "'Twitter'"
            ],
            "application/vnd.google.colaboratory.intrinsic+json": {
              "type": "string"
            }
          },
          "metadata": {},
          "execution_count": 8
        }
      ]
    },
    {
      "cell_type": "markdown",
      "source": [
        "Задание 6 🥰"
      ],
      "metadata": {
        "id": "qRzDoKxnKljw"
      }
    },
    {
      "cell_type": "code",
      "source": [
        "df_2 = df.groupby('Platform').apply(lambda x: x.sort_values('Posts Per Week', ascending=False),include_groups=False)\n",
        "df_2['RollingSumOfCampaignReach'] = df_2['Campaign Reach'].rolling(3).sum()\n",
        "df_2['RollingSumOfAdSpend'] = df_2['Ad Spend (USD)'].rolling(3).sum()\n",
        "df_2['RollingEfficiencyRatio'] = df_2['RollingSumOfCampaignReach'] / df_2['RollingSumOfAdSpend']\n",
        "print(f\"Наибольшее максимальное значение у {df_2['RollingEfficiencyRatio'].idxmax()[0]}, а наименьшее - у {df_2['RollingEfficiencyRatio'].idxmin()[0]}\")"
      ],
      "metadata": {
        "colab": {
          "base_uri": "https://localhost:8080/"
        },
        "id": "HC8ycHvSKm1V",
        "outputId": "ad5d7469-e34b-4714-d6dc-2e9825cd8ca9"
      },
      "execution_count": 9,
      "outputs": [
        {
          "output_type": "stream",
          "name": "stdout",
          "text": [
            "Наибольшее максимальное значение у Facebook, а наименьшее - у Instagram\n"
          ]
        }
      ]
    },
    {
      "cell_type": "markdown",
      "source": [
        "Задание 7 🥰"
      ],
      "metadata": {
        "id": "dKM27HVHo5dg"
      }
    },
    {
      "cell_type": "code",
      "source": [
        "df_7_1 = df.groupby('Platform').apply(lambda x: x.sort_values('Engagement Rate', ascending=False).iloc[0],include_groups=False)[['Username']].rename(columns={'Username': 'Username_1'})\n",
        "df_7_2 = df.groupby('Platform').apply(lambda x: x.sort_values('Conversion Rate', ascending=False).iloc[0],include_groups=False)[['Username']].rename(columns={'Username': 'Username_2'})\n",
        "df_merged = pd.merge(df_7_1, df_7_2, on='Platform')\n",
        "df_merged[df_merged['Username_1'] == df_merged['Username_2']].shape[0]"
      ],
      "metadata": {
        "colab": {
          "base_uri": "https://localhost:8080/"
        },
        "collapsed": true,
        "id": "Oqj2YkBno6rD",
        "outputId": "e5b3e01a-801c-4a28-f5f6-a8e16b5608d5"
      },
      "execution_count": 10,
      "outputs": [
        {
          "output_type": "execute_result",
          "data": {
            "text/plain": [
              "0"
            ]
          },
          "metadata": {},
          "execution_count": 10
        }
      ]
    },
    {
      "cell_type": "markdown",
      "source": [
        "Задание 8 🥰"
      ],
      "metadata": {
        "id": "vOdy_3Pe2PKc"
      }
    },
    {
      "cell_type": "code",
      "source": [
        "%%time\n",
        "av = df['Conversion Rate'].mean()\n",
        "df_8 = df\n",
        "df_8['Conversion_Category'] = np.where(df['Conversion Rate'] > av, 'High', 'Low')\n",
        "pt_2 = pd.pivot_table(df_8, values=['Follower Count'], index='Platform', columns='Conversion_Category', aggfunc='sum')\n",
        "pt_2['Difference'] = pt_2['Follower Count']['High'] / pt_2['Follower Count']['Low']\n",
        "print(f\"Разница между максимальным и минимальным = {pt_2['Difference'].max() - pt_2['Difference'].min()}, платформа с максимальной разницей - {pt_2['Difference'].idxmax()}, с минимальной - {pt_2['Difference'].idxmin()}\")"
      ],
      "metadata": {
        "colab": {
          "base_uri": "https://localhost:8080/"
        },
        "id": "EF9hMQn4yNnW",
        "outputId": "2a38613d-4be2-47f4-99a6-116f1c6afa20"
      },
      "execution_count": 11,
      "outputs": [
        {
          "output_type": "stream",
          "name": "stdout",
          "text": [
            "Разница между максимальным и минимальным = 0.17688741338715763, платформа с максимальной разницей - Twitter, с минимальной - Instagram\n",
            "CPU times: user 11.4 ms, sys: 80 µs, total: 11.5 ms\n",
            "Wall time: 12.1 ms\n"
          ]
        }
      ]
    },
    {
      "cell_type": "markdown",
      "source": [
        "Задание 9 🥰"
      ],
      "metadata": {
        "id": "MI_K6yUQ3Ced"
      }
    },
    {
      "cell_type": "code",
      "source": [
        "%%time\n",
        "sl = {'Instagram': {'High': 0, 'Low': 0}, 'Twitter': {'High': 0, 'Low': 0}, 'Facebook': {'High': 0, 'Low': 0}, 'TikTok': {'High': 0, 'Low': 0}, 'LinkedIn': {'High': 0, 'Low': 0}}\n",
        "s = 0\n",
        "kol = 0\n",
        "for i in df.itertuples():\n",
        "  kol += 1\n",
        "  s += i._8\n",
        "av_9 = s / kol\n",
        "for i in df.itertuples():\n",
        "  platf = i.Platform\n",
        "  if i._8 > av_9:\n",
        "    sl[platf]['High'] += i._4\n",
        "  else:\n",
        "    sl[platf]['Low'] += i._4\n",
        "maxim_p = ''\n",
        "maxim = 0\n",
        "minim = 10\n",
        "minim_p = ''\n",
        "for k in sl:\n",
        "  tek = sl[k]['High'] / sl[k]['Low']\n",
        "  if tek > maxim:\n",
        "    maxim = tek\n",
        "    maxim_p = k\n",
        "  if tek < minim:\n",
        "    minim = tek\n",
        "    minim_p = k\n",
        "print(f\"Разница между максимальным и минимальным = {maxim - minim}, платформа с максимальной разницей - {maxim_p}, с минимальной - {minim_p}\")"
      ],
      "metadata": {
        "colab": {
          "base_uri": "https://localhost:8080/"
        },
        "id": "ZF_qfFdo3Dtg",
        "outputId": "7017b2e9-5c0d-49f8-85fe-1e686d84779d"
      },
      "execution_count": 13,
      "outputs": [
        {
          "output_type": "stream",
          "name": "stdout",
          "text": [
            "Разница между максимальным и минимальным = 0.17688741338715763, платформа с максимальной разницей - Twitter, с минимальной - Instagram\n",
            "CPU times: user 26.6 ms, sys: 80 µs, total: 26.7 ms\n",
            "Wall time: 26.5 ms\n"
          ]
        }
      ]
    },
    {
      "cell_type": "markdown",
      "source": [
        "Выполнение программы 9 занимает в два раза больше времени, чем программы 8. Pandas победил очев, крутой тип"
      ],
      "metadata": {
        "id": "aUUdCrHYQHp5"
      }
    },
    {
      "cell_type": "markdown",
      "source": [
        "Задание 10 🥰\n",
        "Как называют черный чай в америке?\n",
        ".\n",
        ".\n",
        ".\n",
        "не зеленый"
      ],
      "metadata": {
        "id": "JS8DsPCLRaq4"
      }
    }
  ]
}