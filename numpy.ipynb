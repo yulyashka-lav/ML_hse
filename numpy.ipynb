{
  "nbformat": 4,
  "nbformat_minor": 0,
  "metadata": {
    "colab": {
      "provenance": []
    },
    "kernelspec": {
      "name": "python3",
      "display_name": "Python 3"
    },
    "language_info": {
      "name": "python"
    }
  },
  "cells": [
    {
      "cell_type": "code",
      "execution_count": null,
      "metadata": {
        "id": "yeEmtw9S2xl7"
      },
      "outputs": [],
      "source": [
        "import numpy as np"
      ]
    },
    {
      "cell_type": "markdown",
      "source": [
        "Задание 1 🩰"
      ],
      "metadata": {
        "id": "qihDYGBT3Bhy"
      }
    },
    {
      "cell_type": "code",
      "source": [
        "def result_mark(weights: np.array, marks: np.array) -> int:\n",
        "    res = np.sum(marks * weights, axis=1)\n",
        "    res = np.round(res)\n",
        "    return res"
      ],
      "metadata": {
        "id": "FCQdWy9c3C2i"
      },
      "execution_count": null,
      "outputs": []
    },
    {
      "cell_type": "code",
      "source": [
        "weights = np.array([0.3, 0.4, 0.2, 0.1])\n",
        "marks = np.array([[7, 10, 8, 6], [6, 9, 7, 6]])\n",
        "\n",
        "assert np.allclose(result_mark(weights, marks), np.array([8, 7]))"
      ],
      "metadata": {
        "id": "cAr2g-lv2wGc"
      },
      "execution_count": null,
      "outputs": []
    },
    {
      "cell_type": "code",
      "source": [
        "weights = np.array([0.3, 0.4, 0.2, 0.1])\n",
        "marks = np.array([[7, 0, 8, 6]])\n",
        "\n",
        "assert np.allclose(result_mark(weights, marks), np.array([4]))"
      ],
      "metadata": {
        "id": "hHmpOS1F4oWk"
      },
      "execution_count": null,
      "outputs": []
    },
    {
      "cell_type": "markdown",
      "source": [
        "Задание 2 🩰"
      ],
      "metadata": {
        "id": "AVoVEsmi5JIZ"
      }
    },
    {
      "cell_type": "code",
      "source": [
        "def change_array(array: np.array) -> np.array:\n",
        "    arr1 = np.copy(array)\n",
        "    arr1[arr1 % 2 == 1] = 0\n",
        "    arr1 = arr1 ** 2\n",
        "    arr2 = np.copy(array)\n",
        "    arr2[arr2 % 2 == 0] = 0\n",
        "    arr2 = np.sin(arr2)\n",
        "    return np.round(arr1 + arr2, 2)"
      ],
      "metadata": {
        "id": "RITOJTJ-5M8s"
      },
      "execution_count": null,
      "outputs": []
    },
    {
      "cell_type": "code",
      "source": [
        "array = np.array([2, 5, 1, 0, -6, 22, 213431])\n",
        "\n",
        "assert np.allclose(change_array(array), np.array([4.0, -0.96, 0.84, 0.0, 36.0, 484.0, -0.58]))"
      ],
      "metadata": {
        "id": "SE0iQC4iudlN"
      },
      "execution_count": null,
      "outputs": []
    },
    {
      "cell_type": "code",
      "source": [
        "array = np.array([3, 12, 15, -97, 6])\n",
        "\n",
        "assert np.allclose(change_array(array), np.array([0.14, 144.0, 0.65, -0.38, 36.0]))"
      ],
      "metadata": {
        "id": "odSiUJ1nujOb"
      },
      "execution_count": null,
      "outputs": []
    },
    {
      "cell_type": "markdown",
      "source": [
        "Задание 3 🩰"
      ],
      "metadata": {
        "id": "gQN_Cl4BusFv"
      }
    },
    {
      "cell_type": "code",
      "source": [
        "def cumulative_sum_of_differences(array):\n",
        "    arr1 = np.array(array[0])\n",
        "    arr1 = np.append(arr1, array[:-1])\n",
        "    arr2 = array - arr1\n",
        "    return np.cumsum(arr2)"
      ],
      "metadata": {
        "id": "jQqLqCrXuxUQ"
      },
      "execution_count": null,
      "outputs": []
    },
    {
      "cell_type": "code",
      "source": [
        "array = np.array([3, 6, 2, 8])\n",
        "\n",
        "assert np.allclose(cumulative_sum_of_differences(array), np.array([0, 3, -1, 5]))"
      ],
      "metadata": {
        "id": "jHUpoY0XwVMK"
      },
      "execution_count": null,
      "outputs": []
    },
    {
      "cell_type": "code",
      "source": [
        "array = np.array([5, 1])\n",
        "\n",
        "assert np.allclose(cumulative_sum_of_differences(array), np.array([0, -4]))"
      ],
      "metadata": {
        "id": "Z7JJAziMJOdJ"
      },
      "execution_count": null,
      "outputs": []
    },
    {
      "cell_type": "markdown",
      "source": [
        "Задание 4 🩰"
      ],
      "metadata": {
        "id": "EsMnMawwJTKt"
      }
    },
    {
      "cell_type": "code",
      "source": [
        "def flatten_and_sort_transposed(array: np.array) -> np.array:\n",
        "    array = array.T\n",
        "    array = array.reshape(1, -1)\n",
        "    array = array.astype('int8')\n",
        "    array = np.sort(array)\n",
        "    return(array[0][::-1])"
      ],
      "metadata": {
        "id": "zIOY_ZjUJVHi"
      },
      "execution_count": null,
      "outputs": []
    },
    {
      "cell_type": "code",
      "source": [
        "\n",
        "array = np.array([[256, -10], [-381, 112]])\n",
        "\n",
        "assert np.allclose(flatten_and_sort_transposed(array), np.array([112, 0, -10, -125]))"
      ],
      "metadata": {
        "id": "LcZ9oIZGKPnM"
      },
      "execution_count": null,
      "outputs": []
    },
    {
      "cell_type": "code",
      "source": [
        "array = np.array([[9, 8, 7], [3, 6, 129]])\n",
        "\n",
        "assert np.allclose(flatten_and_sort_transposed(array), np.array([ 9, 8, 7, 6, 3, -127]))"
      ],
      "metadata": {
        "id": "fLqEoJA7M4jq"
      },
      "execution_count": null,
      "outputs": []
    },
    {
      "cell_type": "markdown",
      "source": [
        "Задание 5 🩰"
      ],
      "metadata": {
        "id": "aCltSpRpNEKI"
      }
    },
    {
      "cell_type": "code",
      "source": [
        "def filter_rows_by_mean(array):\n",
        "    av = array.sum() / np.size(array)\n",
        "    el_r = np.size(array[0])\n",
        "    return array[(np.sum(array, axis=1) / el_r) <= av]"
      ],
      "metadata": {
        "id": "n3dPROjiNFgW"
      },
      "execution_count": null,
      "outputs": []
    },
    {
      "cell_type": "code",
      "source": [
        "array = np.array([[1, 2, 3], [7, 8, 9], [4, 5, 6]])\n",
        "res = filter_rows_by_mean(array)\n",
        "assert res.ndim == 2\n",
        "assert np.allclose(res, np.array([[1, 2, 3], [4, 5, 6]]))"
      ],
      "metadata": {
        "id": "5pWcbfTjPRdW"
      },
      "execution_count": null,
      "outputs": []
    },
    {
      "cell_type": "code",
      "source": [
        "array = np.array([[10, 20], [5, 5], [15, 15]])\n",
        "res = filter_rows_by_mean(array)\n",
        "\n",
        "assert res.ndim == 2\n",
        "assert np.allclose(res, np.array([[5, 5]]))"
      ],
      "metadata": {
        "id": "yg8GagGIP_o1"
      },
      "execution_count": null,
      "outputs": []
    },
    {
      "cell_type": "markdown",
      "source": [
        "Задание 6 🩰"
      ],
      "metadata": {
        "id": "h8xMQVMRQ2Cs"
      }
    },
    {
      "cell_type": "code",
      "source": [
        "def create_checkerboard(number):\n",
        "    arr = np.array([1, 0]* (number // 2 + 1))\n",
        "    arr = arr[:number]\n",
        "    arr2 = np.array([0, 1]* (number // 2 + 1))\n",
        "    arr2 = arr2[:number].reshape(-1, 1)\n",
        "    arr3 = arr2 - arr\n",
        "    return np.abs(arr3)"
      ],
      "metadata": {
        "id": "d65j0PFBQ3Ss"
      },
      "execution_count": null,
      "outputs": []
    },
    {
      "cell_type": "code",
      "source": [
        "number = 3\n",
        "\n",
        "assert np.allclose(create_checkerboard(number) - np.array([[1, 0, 1], [0, 1, 0], [1, 0, 1]]), np.zeros((number, number)))"
      ],
      "metadata": {
        "id": "ADKOtHhvTtso"
      },
      "execution_count": null,
      "outputs": []
    },
    {
      "cell_type": "code",
      "source": [
        "number = 4\n",
        "\n",
        "assert np.allclose(create_checkerboard(number) - np.array([[1, 0, 1, 0], [0, 1, 0, 1], [1, 0, 1, 0], [0, 1, 0, 1]]), np.zeros((number, number)))"
      ],
      "metadata": {
        "id": "XglPD4ffXH3j"
      },
      "execution_count": null,
      "outputs": []
    },
    {
      "cell_type": "markdown",
      "source": [
        "Задание 7 🩰"
      ],
      "metadata": {
        "id": "K0Gm46ruXgit"
      }
    },
    {
      "cell_type": "code",
      "source": [
        "def sort_rows_by_second_column(array):\n",
        "    ind = np.argsort(array[:, 1])\n",
        "    array2 = array[ind]\n",
        "    return array2"
      ],
      "metadata": {
        "id": "5WrArJmxXh8Q"
      },
      "execution_count": null,
      "outputs": []
    },
    {
      "cell_type": "code",
      "source": [
        "array = np.array([[10, 2], [3, 5], [7, 1]])\n",
        "\n",
        "assert np.allclose(sort_rows_by_second_column(array), np.array([[7, 1], [10, 2], [3, 5]]))"
      ],
      "metadata": {
        "id": "f-K0fROyj43v"
      },
      "execution_count": null,
      "outputs": []
    },
    {
      "cell_type": "code",
      "source": [
        "\n",
        "array = np.array([[5, 8, 1], [10, 3, 9], [2, 7, 0], [6, -1, 5]])\n",
        "\n",
        "assert np.allclose(sort_rows_by_second_column(array), np.array([[6, -1, 5], [10, 3, 9], [2, 7, 0], [5, 8, 1]]))"
      ],
      "metadata": {
        "id": "4Jabs2WQ_9XT"
      },
      "execution_count": null,
      "outputs": []
    },
    {
      "cell_type": "markdown",
      "source": [
        "Задание 8 🩰"
      ],
      "metadata": {
        "id": "bDTPQbBcAKx6"
      }
    },
    {
      "cell_type": "code",
      "source": [
        "def sum_counterdiagonal_elements(array):\n",
        "    arr_rev = array[::-1,:]\n",
        "    return np.diag(arr_rev).sum()"
      ],
      "metadata": {
        "id": "Sa31LsDAAMNB"
      },
      "execution_count": null,
      "outputs": []
    },
    {
      "cell_type": "code",
      "source": [
        "array = np.array([[5, 8, 1], [10, 3, 9], [2, 7, 0]])\n",
        "\n",
        "assert sum_counterdiagonal_elements(array) == 6"
      ],
      "metadata": {
        "id": "OWMlAi82WdEj"
      },
      "execution_count": null,
      "outputs": []
    },
    {
      "cell_type": "code",
      "source": [
        "array = np.array([[-4, -1, -1, 7], [6, -10, 5, -9], [3, -8, 6, 8], [-1, -6, 7, -10]])\n",
        "\n",
        "assert sum_counterdiagonal_elements(array) == 3"
      ],
      "metadata": {
        "id": "G5n8rscHczfo"
      },
      "execution_count": null,
      "outputs": []
    },
    {
      "cell_type": "markdown",
      "source": [
        "Задание 9 🩰"
      ],
      "metadata": {
        "id": "gAcOvcSXdRnR"
      }
    },
    {
      "cell_type": "code",
      "source": [
        "def generate_logarithm_points(start, end, count):\n",
        "    r = (end - start) / (count - 1)\n",
        "    arr1 = np.arange(start, end, r)\n",
        "    arr1 = np.append(arr1, end)\n",
        "    arr2 = np.log(arr1 + 1)\n",
        "    arr3 = np.vstack((np.round(arr1, 2), np.round(arr2, 2)))\n",
        "    return(arr3.T)"
      ],
      "metadata": {
        "id": "Lp_Hlzp8dS6H"
      },
      "execution_count": null,
      "outputs": []
    },
    {
      "cell_type": "code",
      "source": [
        "start = 1\n",
        "end = 10\n",
        "count = 5\n",
        "\n",
        "assert np.allclose(generate_logarithm_points(start, end, count), np.array([[1., 0.69], [3.25, 1.45], [5.5 , 1.87], [7.75, 2.17], [10., 2.4]]))"
      ],
      "metadata": {
        "id": "qEoSRKZweRTa"
      },
      "execution_count": null,
      "outputs": []
    },
    {
      "cell_type": "code",
      "source": [
        "start = 5\n",
        "end = 12\n",
        "count = 4\n",
        "\n",
        "assert np.allclose(generate_logarithm_points(start, end, count), np.array([[5., 1.79], [7.33, 2.12], [9.67, 2.37], [12., 2.56]]))"
      ],
      "metadata": {
        "id": "CVepIRJ4io6P"
      },
      "execution_count": null,
      "outputs": []
    },
    {
      "cell_type": "markdown",
      "source": [
        "Задание 10 🩰"
      ],
      "metadata": {
        "id": "F88goPyViuRT"
      }
    },
    {
      "cell_type": "code",
      "source": [
        "def min_max_scale(array):\n",
        "    maxim = np.max(array)\n",
        "    minim = np.min(array)\n",
        "    arr1 = (array - minim) / (maxim - minim)\n",
        "    return arr1.round(2)"
      ],
      "metadata": {
        "id": "M0YDyECviyYY"
      },
      "execution_count": null,
      "outputs": []
    },
    {
      "cell_type": "code",
      "source": [
        "array = np.array([[1, 2, 3], [4, 5, 6], [7, 8, 9]])\n",
        "\n",
        "assert np.allclose(min_max_scale(array), np.array([[0. , 0.12, 0.25], [0.38, 0.5 , 0.62], [0.75, 0.88, 1.]]))"
      ],
      "metadata": {
        "colab": {
          "base_uri": "https://localhost:8080/"
        },
        "id": "4ExJh6YnlwRY",
        "outputId": "2009a3d0-19fa-4531-aafb-2cdd7dd0a78c"
      },
      "execution_count": null,
      "outputs": [
        {
          "output_type": "stream",
          "name": "stdout",
          "text": [
            "1\n"
          ]
        }
      ]
    },
    {
      "cell_type": "code",
      "source": [
        "array = np.array([[0, 1, 2], [3, 4, 5]])\n",
        "\n",
        "assert np.allclose(min_max_scale(array), np.array([[0., 0.2, 0.4], [0.6, 0.8, 1.]]))"
      ],
      "metadata": {
        "id": "hXn7dRsLmGgl"
      },
      "execution_count": null,
      "outputs": []
    }
  ]
}